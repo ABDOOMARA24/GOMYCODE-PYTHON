{
  "cells": [
    {
      "cell_type": "markdown",
      "metadata": {
        "id": "view-in-github",
        "colab_type": "text"
      },
      "source": [
        "<a href=\"https://colab.research.google.com/github/ABDOOMARA24/GOMYCODE-PYTHON/blob/main/Welcome_To_Colaboratory.ipynb\" target=\"_parent\"><img src=\"https://colab.research.google.com/assets/colab-badge.svg\" alt=\"Open In Colab\"/></a>"
      ]
    },
    {
      "cell_type": "code",
      "source": [],
      "metadata": {
        "id": "kvUZBhNpoY0b"
      },
      "execution_count": null,
      "outputs": []
    },
    {
      "cell_type": "code",
      "source": [
        "from random import randint\n",
        "number = randint(1,100)\n",
        "guess = int(input(\"guess a number between 1 and 100: \"))\n",
        "\n",
        "while guess != number:\n",
        "  if guess < number:\n",
        "    print(\"your guess was too low.\")\n",
        "    guess = int(input(\"guess again.\"))\n",
        "  else :\n",
        "      print (\"your guess was too high.\")\n",
        "      guess = int(input(\"guess again.\"))\n",
        "      break\n",
        "\n",
        "print (\"congratulations,you gessed the number.\")\n"
      ],
      "metadata": {
        "colab": {
          "base_uri": "https://localhost:8080/"
        },
        "id": "LXD9fzUJu9Ce",
        "outputId": "e1d985fa-2033-440f-b4ce-483349a2cc22"
      },
      "execution_count": null,
      "outputs": [
        {
          "output_type": "stream",
          "name": "stdout",
          "text": [
            "guess a number between 1 and 100: 1\n",
            "your guess was too low.\n",
            "guess again.100\n",
            "your guess was too high.\n",
            "guess again.90\n",
            "congratulations,you gessed the number.\n"
          ]
        }
      ]
    }
  ],
  "metadata": {
    "colab": {
      "name": "Welcome To Colaboratory",
      "toc_visible": true,
      "provenance": [],
      "include_colab_link": true
    },
    "kernelspec": {
      "display_name": "Python 3",
      "name": "python3"
    }
  },
  "nbformat": 4,
  "nbformat_minor": 0
}